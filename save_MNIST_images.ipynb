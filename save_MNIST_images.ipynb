{
 "cells": [
  {
   "cell_type": "code",
   "execution_count": 2,
   "metadata": {},
   "outputs": [],
   "source": [
    "import os\n",
    "import time\n",
    "import inspect\n",
    "import cv2\n",
    "import numpy as np\n",
    "from matplotlib import pyplot as plt\n",
    "from sklearn.model_selection import train_test_split\n",
    "import multiprocessing as mp\n",
    "from utils import check_path_exists"
   ]
  },
  {
   "cell_type": "code",
   "execution_count": 3,
   "metadata": {},
   "outputs": [],
   "source": [
    "current_dir = os.path.dirname(os.path.abspath(inspect.getfile(inspect.currentframe())))\n",
    "data_path = os.path.join(current_dir, 'MNIST_data')"
   ]
  },
  {
   "cell_type": "code",
   "execution_count": 4,
   "metadata": {
    "collapsed": true,
    "jupyter": {
     "outputs_hidden": true
    }
   },
   "outputs": [
    {
     "name": "stderr",
     "output_type": "stream",
     "text": [
      "/Users/yurei/.local/lib/python3.7/site-packages/tensorflow/python/framework/dtypes.py:526: FutureWarning: Passing (type, 1) or '1type' as a synonym of type is deprecated; in a future version of numpy, it will be understood as (type, (1,)) / '(1,)type'.\n",
      "  _np_qint8 = np.dtype([(\"qint8\", np.int8, 1)])\n",
      "/Users/yurei/.local/lib/python3.7/site-packages/tensorflow/python/framework/dtypes.py:527: FutureWarning: Passing (type, 1) or '1type' as a synonym of type is deprecated; in a future version of numpy, it will be understood as (type, (1,)) / '(1,)type'.\n",
      "  _np_quint8 = np.dtype([(\"quint8\", np.uint8, 1)])\n",
      "/Users/yurei/.local/lib/python3.7/site-packages/tensorflow/python/framework/dtypes.py:528: FutureWarning: Passing (type, 1) or '1type' as a synonym of type is deprecated; in a future version of numpy, it will be understood as (type, (1,)) / '(1,)type'.\n",
      "  _np_qint16 = np.dtype([(\"qint16\", np.int16, 1)])\n",
      "/Users/yurei/.local/lib/python3.7/site-packages/tensorflow/python/framework/dtypes.py:529: FutureWarning: Passing (type, 1) or '1type' as a synonym of type is deprecated; in a future version of numpy, it will be understood as (type, (1,)) / '(1,)type'.\n",
      "  _np_quint16 = np.dtype([(\"quint16\", np.uint16, 1)])\n",
      "/Users/yurei/.local/lib/python3.7/site-packages/tensorflow/python/framework/dtypes.py:530: FutureWarning: Passing (type, 1) or '1type' as a synonym of type is deprecated; in a future version of numpy, it will be understood as (type, (1,)) / '(1,)type'.\n",
      "  _np_qint32 = np.dtype([(\"qint32\", np.int32, 1)])\n",
      "/Users/yurei/.local/lib/python3.7/site-packages/tensorflow/python/framework/dtypes.py:535: FutureWarning: Passing (type, 1) or '1type' as a synonym of type is deprecated; in a future version of numpy, it will be understood as (type, (1,)) / '(1,)type'.\n",
      "  np_resource = np.dtype([(\"resource\", np.ubyte, 1)])\n"
     ]
    }
   ],
   "source": [
    "from tensorflow.keras.datasets import mnist\n",
    "(X_train, Y_train), (X_test, Y_test) = mnist.load_data()"
   ]
  },
  {
   "cell_type": "code",
   "execution_count": 27,
   "metadata": {},
   "outputs": [
    {
     "name": "stdout",
     "output_type": "stream",
     "text": [
      "complete build /Users/yurei/Desktop/My_file/study_讀書筆記/computer_vision/pytorch_notes/CNN/MNIST_data/train/images\n",
      "complete build /Users/yurei/Desktop/My_file/study_讀書筆記/computer_vision/pytorch_notes/CNN/MNIST_data/train/class\n",
      "complete build /Users/yurei/Desktop/My_file/study_讀書筆記/computer_vision/pytorch_notes/CNN/MNIST_data/val/images\n",
      "complete build /Users/yurei/Desktop/My_file/study_讀書筆記/computer_vision/pytorch_notes/CNN/MNIST_data/val/class\n"
     ]
    }
   ],
   "source": [
    "task_list = ['train', 'val']\n",
    "file_type_list = ['images', 'class']\n",
    "\n",
    "for task in task_list:\n",
    "    for file_type in file_type_list:\n",
    "        check_path_exist(os.path.join(data_path, task, file_type))"
   ]
  },
  {
   "cell_type": "code",
   "execution_count": 9,
   "metadata": {},
   "outputs": [],
   "source": [
    "features_train, features_test, targets_train, targets_test = \\\n",
    "    train_test_split(X_train, Y_train, test_size=0.2, random_state=123)"
   ]
  },
  {
   "cell_type": "markdown",
   "metadata": {},
   "source": [
    "## 製造成資料夾是答案的 dataset 格式"
   ]
  },
  {
   "cell_type": "code",
   "execution_count": 108,
   "metadata": {
    "collapsed": true,
    "jupyter": {
     "outputs_hidden": true
    }
   },
   "outputs": [
    {
     "name": "stdout",
     "output_type": "stream",
     "text": [
      "/Users/yurei/Desktop/My_file/study_讀書筆記/computer_vision/pytorch_notes/CNN/MNIST_data/train/0 does exist\n",
      "/Users/yurei/Desktop/My_file/study_讀書筆記/computer_vision/pytorch_notes/CNN/MNIST_data/train/1 does exist\n",
      "/Users/yurei/Desktop/My_file/study_讀書筆記/computer_vision/pytorch_notes/CNN/MNIST_data/train/2 does exist\n",
      "/Users/yurei/Desktop/My_file/study_讀書筆記/computer_vision/pytorch_notes/CNN/MNIST_data/train/3 does exist\n",
      "/Users/yurei/Desktop/My_file/study_讀書筆記/computer_vision/pytorch_notes/CNN/MNIST_data/train/4 does exist\n",
      "/Users/yurei/Desktop/My_file/study_讀書筆記/computer_vision/pytorch_notes/CNN/MNIST_data/train/5 does exist\n",
      "/Users/yurei/Desktop/My_file/study_讀書筆記/computer_vision/pytorch_notes/CNN/MNIST_data/train/6 does exist\n",
      "/Users/yurei/Desktop/My_file/study_讀書筆記/computer_vision/pytorch_notes/CNN/MNIST_data/train/7 does exist\n",
      "/Users/yurei/Desktop/My_file/study_讀書筆記/computer_vision/pytorch_notes/CNN/MNIST_data/train/8 does exist\n",
      "/Users/yurei/Desktop/My_file/study_讀書筆記/computer_vision/pytorch_notes/CNN/MNIST_data/train/9 does exist\n",
      "complete build /Users/yurei/Desktop/My_file/study_讀書筆記/computer_vision/pytorch_notes/CNN/MNIST_data/val/0\n",
      "complete build /Users/yurei/Desktop/My_file/study_讀書筆記/computer_vision/pytorch_notes/CNN/MNIST_data/val/1\n",
      "complete build /Users/yurei/Desktop/My_file/study_讀書筆記/computer_vision/pytorch_notes/CNN/MNIST_data/val/2\n",
      "complete build /Users/yurei/Desktop/My_file/study_讀書筆記/computer_vision/pytorch_notes/CNN/MNIST_data/val/3\n",
      "complete build /Users/yurei/Desktop/My_file/study_讀書筆記/computer_vision/pytorch_notes/CNN/MNIST_data/val/4\n",
      "complete build /Users/yurei/Desktop/My_file/study_讀書筆記/computer_vision/pytorch_notes/CNN/MNIST_data/val/5\n",
      "complete build /Users/yurei/Desktop/My_file/study_讀書筆記/computer_vision/pytorch_notes/CNN/MNIST_data/val/6\n",
      "complete build /Users/yurei/Desktop/My_file/study_讀書筆記/computer_vision/pytorch_notes/CNN/MNIST_data/val/7\n",
      "complete build /Users/yurei/Desktop/My_file/study_讀書筆記/computer_vision/pytorch_notes/CNN/MNIST_data/val/8\n",
      "complete build /Users/yurei/Desktop/My_file/study_讀書筆記/computer_vision/pytorch_notes/CNN/MNIST_data/val/9\n"
     ]
    }
   ],
   "source": [
    "for task in task_list:\n",
    "    for i in range(10):\n",
    "        check_path_exist(os.path.join(data_path, task, f'{i}'))"
   ]
  },
  {
   "cell_type": "code",
   "execution_count": 94,
   "metadata": {},
   "outputs": [],
   "source": [
    "def get_image_class_path(data_path, task, _class, filename):\n",
    "    return os.path.join(data_path, task, f'{int(_class)}', filename)\n",
    "\n",
    "\n",
    "def save_images(data_list, task, part):\n",
    "    assert data_list[0].shape[0] == data_list[1].shape[0], 'lengths of data are not equal'\n",
    "\n",
    "    start_number = int((data_list[0].shape[0] * (part))/2)\n",
    "    end_number = int((data_list[0].shape[0] * (part+1))/2)\n",
    "\n",
    "    for i in range(start_number, end_number):\n",
    "        image_path = get_image_class_path(data_path, task, data_list[1][i], f'MNIST_{i}.jpg')\n",
    "        cv2.imwrite(image_path, data_list[0][i])"
   ]
  },
  {
   "cell_type": "code",
   "execution_count": 118,
   "metadata": {},
   "outputs": [],
   "source": [
    "class worker(mp.Process):\n",
    "    def __init__(self, q, worker_num):\n",
    "        mp.Process.__init__(self)\n",
    "        self.queue = q\n",
    "        self.worker_num = worker_num\n",
    "    def run(self):\n",
    "        while not self.queue.empty():\n",
    "            data = self.queue.get()\n",
    "            save_images(data[0], data[1], data[2])\n",
    "            time.sleep(3)"
   ]
  },
  {
   "cell_type": "code",
   "execution_count": 126,
   "metadata": {},
   "outputs": [],
   "source": [
    "train_data_list = [features_train, targets_train]\n",
    "val_data_list = [features_test, targets_test]\n",
    "\n",
    "queue1 = [train_data_list, 'train', 0]\n",
    "queue2 = [train_data_list, 'train', 1]\n",
    "\n",
    "queue3 = [val_data_list, 'val', 0]\n",
    "queue4 = [val_data_list, 'val', 1]\n",
    "\n",
    "my_queue = mp.Queue()\n",
    "\n",
    "for queue in [queue1, queue2, queue3, queue4]:\n",
    "    my_queue.put(queue)"
   ]
  },
  {
   "cell_type": "code",
   "execution_count": 130,
   "metadata": {},
   "outputs": [],
   "source": [
    "my_worker1 = worker(my_queue, 1)\n",
    "my_worker2 = worker(my_queue, 2)\n",
    "my_worker3 = worker(my_queue, 3)\n",
    "my_worker4 = worker(my_queue, 4)"
   ]
  },
  {
   "cell_type": "code",
   "execution_count": 131,
   "metadata": {},
   "outputs": [
    {
     "name": "stdout",
     "output_type": "stream",
     "text": [
      "CPU times: user 45 ms, sys: 147 ms, total: 192 ms\n",
      "Wall time: 15.9 s\n"
     ]
    }
   ],
   "source": [
    "%%time\n",
    "my_worker1.start()\n",
    "my_worker2.start()\n",
    "my_worker3.start()\n",
    "my_worker4.start()\n",
    "\n",
    "my_worker1.join()\n",
    "my_worker2.join()\n",
    "my_worker3.join()\n",
    "my_worker4.join()"
   ]
  }
 ],
 "metadata": {
  "kernelspec": {
   "display_name": "Python 3",
   "language": "python",
   "name": "python3"
  },
  "language_info": {
   "codemirror_mode": {
    "name": "ipython",
    "version": 3
   },
   "file_extension": ".py",
   "mimetype": "text/x-python",
   "name": "python",
   "nbconvert_exporter": "python",
   "pygments_lexer": "ipython3",
   "version": "3.7.4"
  }
 },
 "nbformat": 4,
 "nbformat_minor": 4
}
